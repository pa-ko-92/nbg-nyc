{
 "cells": [
  {
   "cell_type": "code",
   "execution_count": 4,
   "id": "b8ac2111",
   "metadata": {},
   "outputs": [
    {
     "name": "stdout",
     "output_type": "stream",
     "text": [
      "importing done\n"
     ]
    }
   ],
   "source": [
    "import pandas as pd\n",
    "import seaborn as sns\n",
    "from bs4 import BeautifulSoup as bs4\n",
    "import requests\n",
    "print('importing done')"
   ]
  },
  {
   "cell_type": "code",
   "execution_count": 61,
   "id": "23825ecb",
   "metadata": {},
   "outputs": [
    {
     "name": "stdout",
     "output_type": "stream",
     "text": [
      "download successful <title>Cost of living in a global comparison</title>\n"
     ]
    }
   ],
   "source": [
    "#getting data from: \n",
    "#https://www.worlddata.info/cost-of-living.php\n",
    "url = \"https://www.worlddata.info/cost-of-living.php\"\n",
    "req = requests.get(url)\n",
    "soup = bs4(req.text, \"html.parser\")\n",
    "print('download successful', soup.title)"
   ]
  },
  {
   "cell_type": "code",
   "execution_count": 59,
   "id": "571f5888",
   "metadata": {},
   "outputs": [],
   "source": [
    "table = soup.find( \"table\", {\"id\":\"tabsort\"} )\n",
    "\n",
    "rows=list()\n",
    "for row in table.findAll(\"td\"):\n",
    "    rows.append(row.text)\n"
   ]
  },
  {
   "cell_type": "code",
   "execution_count": 60,
   "id": "26ca39a6",
   "metadata": {},
   "outputs": [],
   "source": [
    "#get bic mac index raw data from\n",
    "#https://github.com/TheEconomist/big-mac-data/blob/master/source-data/big-mac-historical-source-data.csv"
   ]
  },
  {
   "cell_type": "code",
   "execution_count": null,
   "id": "e99ea89a",
   "metadata": {},
   "outputs": [],
   "source": []
  }
 ],
 "metadata": {
  "kernelspec": {
   "display_name": "Python 3 (ipykernel)",
   "language": "python",
   "name": "python3"
  },
  "language_info": {
   "codemirror_mode": {
    "name": "ipython",
    "version": 3
   },
   "file_extension": ".py",
   "mimetype": "text/x-python",
   "name": "python",
   "nbconvert_exporter": "python",
   "pygments_lexer": "ipython3",
   "version": "3.9.12"
  }
 },
 "nbformat": 4,
 "nbformat_minor": 5
}
